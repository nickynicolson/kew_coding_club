{
 "cells": [
  {
   "cell_type": "markdown",
   "metadata": {},
   "source": [
    "# Regular expressions in command line grep (and other command line utilities)\n",
    "\n",
    "## Background\n",
    "\n",
    "We've been collaboratively writing an article, and people have been jumping in and adding references into a shared editable draft. We now want to tidy these up, ensure everything is formatted neatly and use a reference manager to build the bibliography in the correct style.\n",
    "\n",
    "This outline covers extracting the citations from the draft article text using regular expressions.\n",
    "\n",
    "## Starting assumptions\n",
    "\n",
    "You've access to:\n",
    "- Article contents in a simple text file: `article.txt` (the sample here uses generated text and some citations, mostly in author year style)\n",
    "- A command line environment with `grep` and other common command line utilities (`head`, `sort`, `tr`, `uniq` etc).\n",
    "\n",
    "## First look at the article contents\n",
    "\n",
    "`head` is a utility that outputs the first part of a file (or other input). (`tail` is the converse, which outputs the last).\n",
    "\n",
    "Here, `head` is used to output the first part of the `article.txt` file:"
   ]
  },
  {
   "cell_type": "code",
   "execution_count": 1,
   "metadata": {},
   "outputs": [
    {
     "name": "stdout",
     "output_type": "stream",
     "text": [
      " Neque porro ipsum est.  Labore quaerat numquam porro sit (Jarman et al. 2018)     non.  Quaerat quaerat est eius quaerat est (Piet et al. 2019).  Porro magnam velit quiquia est (e.g. Colville & Pritchard 2019) modi (Li & Pritchard 2009).  Quisquam labore sit dolore non amet numquam velit.  Quiquia ut neque est etincidunt (Wyse et al. 2018) consectetur quisquam (Wyse & Dickie 2017).  Neque porro ipsum est.  Labore quaerat numquam porro sit (Victor et al. 2015) non.  Quaerat quaerat est eius quaerat (Baker et al. 2017) est.  Porro magnam velit quiquia est (Nicholson et al. 2018) modi.  Quisquam labore sit dolore non amet numquam velit.  Quiquia ut neque est etincidunt consectetur (e.g. Mounce et al. 2017; Meyer et al. 2016, Ball-Damerow 2019) quisquam. \n",
      " Porro labore non aliquam adipisci (Hedrick et al. 2019; Lendemer et al. 2020) amet adipisci.  Dolorem est quaerat quaerat consectetur sit (Heberling & Isaac 2018) eius.  Consectetur consectetur dolorem quisquam ut sed (Berendsohn & Seltmann 2010; Owens & Johnson 2019) labore.  Eius quiquia magnam dolorem non magnam ut (Fritze et al. 2012).  Tempora etincidunt amet ut amet quaerat (OECD, 2007) dolorem (OECD, 2001) etincidunt.  Velit porro velit sed non dolor magnam dolor (Heywood 2017).  Magnam ipsum ipsum adipisci amet.  Porro labore non aliquam adipisci amet (Brummitt 2001) adipisci.  Dolorem est quaerat quaerat consectetur sit eius.  Consectetur consectetur dolorem quisquam ut sed (Figure 8) labore.  Eius quiquia magnam dolorem non (Table 4) magnam ut (Meyer et al. 2016; Daru et al. 2018; Meineke et al. 2018; Nekola et al. 2019; Zizka et al. 2020).  Tempora etincidunt amet ut amet (about 27% of the total, followed by the Caribbean, Central and South America, with 22% and Europe, with about 19%. Africa, Tropical Asia and the Pacific regions comprise the smallest proportion of digitized specimens currently available through GBIF (Fig. 7) quaerat dolorem etincidunt.  Velit porro velit sed non dolor (GBIF 2020) magnam (Canteiro et al. 2019) dolor (Soltis 2017).  Magnam ipsum ipsum adipisci amet. \n",
      " Voluptatem dolore non ipsum.  Modi adipisci porro dolorem adipisci numquam (GBIF Secretariat 2019) aliquam (Schindel & Cook 2018; Nelson & Ellis 2019; Lendemer et al. 2020) neque (Ryan 2013; Smith & Figueiredo 2014).  Eius quaerat neque etincidunt labore (January 2020) dolore (Seberg, Droege et al. 2016).  Ut aliquam amet modi porro (Hong et al. 1998, 1999) ut neque (Fig. 3).  Numquam numquam non est neque voluptatem (Fig. 2).  Voluptatem dolore non ipsum.  Modi adipisci porro dolorem adipisci numquam (Mounce et al. 2017) aliquam (Wyse & Dickie 2017) neque (FAO 2019).  Eius quaerat neque etincidunt labore (Hay and Probert 2013) dolore.  Ut aliquam amet modi porro (Li and Pritchard 2009) ut (FAO, 2019) neque (Overmann, 2015).  Numquam numquam non est neque (WIPO, 2019) voluptatem. \n",
      " Adipisci velit dolore ut amet (WFCC WCDM 2020) neque (Blackwell 2011) tempora magnam (Willis et al. 2018).  Sed eius adipisci est sit numquam.  Quisquam ut labore consectetur porro (insert pie chart here fig 3) etincidunt amet adipisci (Overman & Smith, 2016).  Modi ipsum labore dolorem quisquam (http://www.wfcc.info/ccinfo/statistics/ - 7January/2020).  Dolor numquam dolor quaerat consectetur (Ryan et al., 2019) sed modi.  Neque eius quaerat est non dolore (Mounce et al. 2017).  Ut ipsum magnam voluptatem etincidunt (Figure 2) ipsum aliquam.  Dolore quaerat ipsum amet.  Labore porro non tempora sed porro aliquam adipisci.  Dolor dolore dolorem porro quaerat.  Adipisci velit dolore ut amet (Figure 2) neque tempora magnam.  Sed eius adipisci est sit (Figure 1) numquam (Thiers 2020).  Quisquam ut labore consectetur porro (Lanjouw & Stafleu 1964) etincidunt (Bakker et al. 2019) amet adipisci (Muggaran et al. 2010; Lendemer et al. 2020).  Modi ipsum labore dolorem quisquam (Diaz et al. 2019).  Dolor numquam dolor quaerat consectetur (Meineke et al. 2018) sed modi.  Neque eius quaerat est non (Jarman et al. 2018) dolore (Wyse et al. 2018).  Ut ipsum magnam voluptatem etincidunt (Meyer et al. 2016; Mounce et al. 2017; Meineke et al. 2018; Daru et al. 2018) ipsum (Schindel & Cook 2018) aliquam (Wen et al. 2015; Soltis 2017; Funk 2018; Meineke et al. 2018; Nualart et al. 2017; Besnard et al. 2019; Carine et al. 2018; Heberling et al. 2019).  Dolore quaerat ipsum amet.  Labore porro non tempora sed (Bakker et al.  2019) porro aliquam adipisci (Harmon et al. 2019).  Dolor dolore dolorem porro quaerat. \n"
     ]
    }
   ],
   "source": [
    "! head article.txt"
   ]
  },
  {
   "cell_type": "markdown",
   "metadata": {},
   "source": [
    "This article snippet shows that citations are in the form (Author year) separated by semi-colons if multiple citations presented together, eg:\n",
    "- (Lendemer et al. 2020)\n",
    "- (Webster 2017; Lendemer et al. 2020)"
   ]
  },
  {
   "cell_type": "markdown",
   "metadata": {},
   "source": [
    "## First attempt at finding citations in the text\n",
    "This uses the command line utility `grep` (*Global Regular Expression Print*) \n",
    "The arguments passed to grep are:\n",
    "- `-e \"(.*)\"` - `-e` says use extended pattern syntax, `\"(.*)\"` is the pattern\n",
    "- `--color=always` - colour the matches in the output\n",
    "- `article.txt` - the file to process"
   ]
  },
  {
   "cell_type": "code",
   "execution_count": 2,
   "metadata": {},
   "outputs": [
    {
     "name": "stdout",
     "output_type": "stream",
     "text": [
      " Neque porro ipsum est.  Labore quaerat numquam porro sit \u001b[01;31m\u001b[K(Jarman et al. 2018)     non.  Quaerat quaerat est eius quaerat est (Piet et al. 2019).  Porro magnam velit quiquia est (e.g. Colville & Pritchard 2019) modi (Li & Pritchard 2009).  Quisquam labore sit dolore non amet numquam velit.  Quiquia ut neque est etincidunt (Wyse et al. 2018) consectetur quisquam (Wyse & Dickie 2017).  Neque porro ipsum est.  Labore quaerat numquam porro sit (Victor et al. 2015) non.  Quaerat quaerat est eius quaerat (Baker et al. 2017) est.  Porro magnam velit quiquia est (Nicholson et al. 2018) modi.  Quisquam labore sit dolore non amet numquam velit.  Quiquia ut neque est etincidunt consectetur (e.g. Mounce et al. 2017; Meyer et al. 2016, Ball-Damerow 2019)\u001b[m\u001b[K quisquam. \n",
      " Porro labore non aliquam adipisci \u001b[01;31m\u001b[K(Hedrick et al. 2019; Lendemer et al. 2020) amet adipisci.  Dolorem est quaerat quaerat consectetur sit (Heberling & Isaac 2018) eius.  Consectetur consectetur dolorem quisquam ut sed (Berendsohn & Seltmann 2010; Owens & Johnson 2019) labore.  Eius quiquia magnam dolorem non magnam ut (Fritze et al. 2012).  Tempora etincidunt amet ut amet quaerat (OECD, 2007) dolorem (OECD, 2001) etincidunt.  Velit porro velit sed non dolor magnam dolor (Heywood 2017).  Magnam ipsum ipsum adipisci amet.  Porro labore non aliquam adipisci amet (Brummitt 2001) adipisci.  Dolorem est quaerat quaerat consectetur sit eius.  Consectetur consectetur dolorem quisquam ut sed (Figure 8) labore.  Eius quiquia magnam dolorem non (Table 4) magnam ut (Meyer et al. 2016; Daru et al. 2018; Meineke et al. 2018; Nekola et al. 2019; Zizka et al. 2020).  Tempora etincidunt amet ut amet (about 27% of the total, followed by the Caribbean, Central and South America, with 22% and Europe, with about 19%. Africa, Tropical Asia and the Pacific regions comprise the smallest proportion of digitized specimens currently available through GBIF (Fig. 7) quaerat dolorem etincidunt.  Velit porro velit sed non dolor (GBIF 2020) magnam (Canteiro et al. 2019) dolor (Soltis 2017)\u001b[m\u001b[K.  Magnam ipsum ipsum adipisci amet. \n",
      " Voluptatem dolore non ipsum.  Modi adipisci porro dolorem adipisci numquam \u001b[01;31m\u001b[K(GBIF Secretariat 2019) aliquam (Schindel & Cook 2018; Nelson & Ellis 2019; Lendemer et al. 2020) neque (Ryan 2013; Smith & Figueiredo 2014).  Eius quaerat neque etincidunt labore (January 2020) dolore (Seberg, Droege et al. 2016).  Ut aliquam amet modi porro (Hong et al. 1998, 1999) ut neque (Fig. 3).  Numquam numquam non est neque voluptatem (Fig. 2).  Voluptatem dolore non ipsum.  Modi adipisci porro dolorem adipisci numquam (Mounce et al. 2017) aliquam (Wyse & Dickie 2017) neque (FAO 2019).  Eius quaerat neque etincidunt labore (Hay and Probert 2013) dolore.  Ut aliquam amet modi porro (Li and Pritchard 2009) ut (FAO, 2019) neque (Overmann, 2015).  Numquam numquam non est neque (WIPO, 2019)\u001b[m\u001b[K voluptatem. \n",
      " Adipisci velit dolore ut amet \u001b[01;31m\u001b[K(WFCC WCDM 2020) neque (Blackwell 2011) tempora magnam (Willis et al. 2018).  Sed eius adipisci est sit numquam.  Quisquam ut labore consectetur porro (insert pie chart here fig 3) etincidunt amet adipisci (Overman & Smith, 2016).  Modi ipsum labore dolorem quisquam (http://www.wfcc.info/ccinfo/statistics/ - 7January/2020).  Dolor numquam dolor quaerat consectetur (Ryan et al., 2019) sed modi.  Neque eius quaerat est non dolore (Mounce et al. 2017).  Ut ipsum magnam voluptatem etincidunt (Figure 2) ipsum aliquam.  Dolore quaerat ipsum amet.  Labore porro non tempora sed porro aliquam adipisci.  Dolor dolore dolorem porro quaerat.  Adipisci velit dolore ut amet (Figure 2) neque tempora magnam.  Sed eius adipisci est sit (Figure 1) numquam (Thiers 2020).  Quisquam ut labore consectetur porro (Lanjouw & Stafleu 1964) etincidunt (Bakker et al. 2019) amet adipisci (Muggaran et al. 2010; Lendemer et al. 2020).  Modi ipsum labore dolorem quisquam (Diaz et al. 2019).  Dolor numquam dolor quaerat consectetur (Meineke et al. 2018) sed modi.  Neque eius quaerat est non (Jarman et al. 2018) dolore (Wyse et al. 2018).  Ut ipsum magnam voluptatem etincidunt (Meyer et al. 2016; Mounce et al. 2017; Meineke et al. 2018; Daru et al. 2018) ipsum (Schindel & Cook 2018) aliquam (Wen et al. 2015; Soltis 2017; Funk 2018; Meineke et al. 2018; Nualart et al. 2017; Besnard et al. 2019; Carine et al. 2018; Heberling et al. 2019).  Dolore quaerat ipsum amet.  Labore porro non tempora sed (Bakker et al.  2019) porro aliquam adipisci (Harmon et al. 2019)\u001b[m\u001b[K.  Dolor dolore dolorem porro quaerat. \n"
     ]
    }
   ],
   "source": [
    "! grep -e \"(.*)\" --color=always article.txt "
   ]
  },
  {
   "cell_type": "markdown",
   "metadata": {},
   "source": [
    "This shows that the `.*` part of the match is *greedy* - so the complete pattern `(.*)` will match the opening bracket and then capture *as much as possible* till it sees the final close bracket on the line.\n",
    "\n",
    "To make the matches more usable, we need to refine the pattern to capture just the citations. As each citation starts with a (usually uppercase) letter and ends with a year, this should be possible.\n",
    "The pattern we're using is: `([A-Z].*[0-9])` - which says match in order:\n",
    "- an open bracket `(`\n",
    "- any uppercase character `[A-Z]`\n",
    "- anything `.*`\n",
    "- any digit `[0-9]`\n",
    "- a close bracket `)`"
   ]
  },
  {
   "cell_type": "code",
   "execution_count": 3,
   "metadata": {},
   "outputs": [
    {
     "name": "stdout",
     "output_type": "stream",
     "text": [
      " Neque porro ipsum est.  Labore quaerat numquam porro sit \u001b[01;31m\u001b[K(Jarman et al. 2018)     non.  Quaerat quaerat est eius quaerat est (Piet et al. 2019).  Porro magnam velit quiquia est (e.g. Colville & Pritchard 2019) modi (Li & Pritchard 2009).  Quisquam labore sit dolore non amet numquam velit.  Quiquia ut neque est etincidunt (Wyse et al. 2018) consectetur quisquam (Wyse & Dickie 2017).  Neque porro ipsum est.  Labore quaerat numquam porro sit (Victor et al. 2015) non.  Quaerat quaerat est eius quaerat (Baker et al. 2017) est.  Porro magnam velit quiquia est (Nicholson et al. 2018) modi.  Quisquam labore sit dolore non amet numquam velit.  Quiquia ut neque est etincidunt consectetur (e.g. Mounce et al. 2017; Meyer et al. 2016, Ball-Damerow 2019)\u001b[m\u001b[K quisquam. \n",
      " Porro labore non aliquam adipisci \u001b[01;31m\u001b[K(Hedrick et al. 2019; Lendemer et al. 2020) amet adipisci.  Dolorem est quaerat quaerat consectetur sit (Heberling & Isaac 2018) eius.  Consectetur consectetur dolorem quisquam ut sed (Berendsohn & Seltmann 2010; Owens & Johnson 2019) labore.  Eius quiquia magnam dolorem non magnam ut (Fritze et al. 2012).  Tempora etincidunt amet ut amet quaerat (OECD, 2007) dolorem (OECD, 2001) etincidunt.  Velit porro velit sed non dolor magnam dolor (Heywood 2017).  Magnam ipsum ipsum adipisci amet.  Porro labore non aliquam adipisci amet (Brummitt 2001) adipisci.  Dolorem est quaerat quaerat consectetur sit eius.  Consectetur consectetur dolorem quisquam ut sed (Figure 8) labore.  Eius quiquia magnam dolorem non (Table 4) magnam ut (Meyer et al. 2016; Daru et al. 2018; Meineke et al. 2018; Nekola et al. 2019; Zizka et al. 2020).  Tempora etincidunt amet ut amet (about 27% of the total, followed by the Caribbean, Central and South America, with 22% and Europe, with about 19%. Africa, Tropical Asia and the Pacific regions comprise the smallest proportion of digitized specimens currently available through GBIF (Fig. 7) quaerat dolorem etincidunt.  Velit porro velit sed non dolor (GBIF 2020) magnam (Canteiro et al. 2019) dolor (Soltis 2017)\u001b[m\u001b[K.  Magnam ipsum ipsum adipisci amet. \n",
      " Voluptatem dolore non ipsum.  Modi adipisci porro dolorem adipisci numquam \u001b[01;31m\u001b[K(GBIF Secretariat 2019) aliquam (Schindel & Cook 2018; Nelson & Ellis 2019; Lendemer et al. 2020) neque (Ryan 2013; Smith & Figueiredo 2014).  Eius quaerat neque etincidunt labore (January 2020) dolore (Seberg, Droege et al. 2016).  Ut aliquam amet modi porro (Hong et al. 1998, 1999) ut neque (Fig. 3).  Numquam numquam non est neque voluptatem (Fig. 2).  Voluptatem dolore non ipsum.  Modi adipisci porro dolorem adipisci numquam (Mounce et al. 2017) aliquam (Wyse & Dickie 2017) neque (FAO 2019).  Eius quaerat neque etincidunt labore (Hay and Probert 2013) dolore.  Ut aliquam amet modi porro (Li and Pritchard 2009) ut (FAO, 2019) neque (Overmann, 2015).  Numquam numquam non est neque (WIPO, 2019)\u001b[m\u001b[K voluptatem. \n",
      " Adipisci velit dolore ut amet \u001b[01;31m\u001b[K(WFCC WCDM 2020) neque (Blackwell 2011) tempora magnam (Willis et al. 2018).  Sed eius adipisci est sit numquam.  Quisquam ut labore consectetur porro (insert pie chart here fig 3) etincidunt amet adipisci (Overman & Smith, 2016).  Modi ipsum labore dolorem quisquam (http://www.wfcc.info/ccinfo/statistics/ - 7January/2020).  Dolor numquam dolor quaerat consectetur (Ryan et al., 2019) sed modi.  Neque eius quaerat est non dolore (Mounce et al. 2017).  Ut ipsum magnam voluptatem etincidunt (Figure 2) ipsum aliquam.  Dolore quaerat ipsum amet.  Labore porro non tempora sed porro aliquam adipisci.  Dolor dolore dolorem porro quaerat.  Adipisci velit dolore ut amet (Figure 2) neque tempora magnam.  Sed eius adipisci est sit (Figure 1) numquam (Thiers 2020).  Quisquam ut labore consectetur porro (Lanjouw & Stafleu 1964) etincidunt (Bakker et al. 2019) amet adipisci (Muggaran et al. 2010; Lendemer et al. 2020).  Modi ipsum labore dolorem quisquam (Diaz et al. 2019).  Dolor numquam dolor quaerat consectetur (Meineke et al. 2018) sed modi.  Neque eius quaerat est non (Jarman et al. 2018) dolore (Wyse et al. 2018).  Ut ipsum magnam voluptatem etincidunt (Meyer et al. 2016; Mounce et al. 2017; Meineke et al. 2018; Daru et al. 2018) ipsum (Schindel & Cook 2018) aliquam (Wen et al. 2015; Soltis 2017; Funk 2018; Meineke et al. 2018; Nualart et al. 2017; Besnard et al. 2019; Carine et al. 2018; Heberling et al. 2019).  Dolore quaerat ipsum amet.  Labore porro non tempora sed (Bakker et al.  2019) porro aliquam adipisci (Harmon et al. 2019)\u001b[m\u001b[K.  Dolor dolore dolorem porro quaerat. \n"
     ]
    }
   ],
   "source": [
    "! grep -e \"([A-Z].*[0-9])\" --color=always article.txt "
   ]
  },
  {
   "cell_type": "markdown",
   "metadata": {},
   "source": [
    "Unfortunately its still greedy. Next we replace the \"anything\" part of the pattern (`.*`) with a negative match to prevent prevent reading past a close bracket:\n",
    "`([A-Z][^)]*[0-9])`\n",
    "Which says match in order: \n",
    "- an open bracket `(`\n",
    "- any uppercase character `[A-Z]`\n",
    "- anything that isn't a close bracket `[^)]*` - the `^` character at the start negates the contents of the `[]` and `*` says repeat any number of times \n",
    "- any digit `[0-9]`\n",
    "- a close bracket `)`"
   ]
  },
  {
   "cell_type": "code",
   "execution_count": 4,
   "metadata": {},
   "outputs": [
    {
     "name": "stdout",
     "output_type": "stream",
     "text": [
      " Neque porro ipsum est.  Labore quaerat numquam porro sit \u001b[01;31m\u001b[K(Jarman et al. 2018)\u001b[m\u001b[K     non.  Quaerat quaerat est eius quaerat est \u001b[01;31m\u001b[K(Piet et al. 2019)\u001b[m\u001b[K.  Porro magnam velit quiquia est \u001b[01;31m\u001b[K(e.g. Colville & Pritchard 2019)\u001b[m\u001b[K modi \u001b[01;31m\u001b[K(Li & Pritchard 2009)\u001b[m\u001b[K.  Quisquam labore sit dolore non amet numquam velit.  Quiquia ut neque est etincidunt \u001b[01;31m\u001b[K(Wyse et al. 2018)\u001b[m\u001b[K consectetur quisquam \u001b[01;31m\u001b[K(Wyse & Dickie 2017)\u001b[m\u001b[K.  Neque porro ipsum est.  Labore quaerat numquam porro sit \u001b[01;31m\u001b[K(Victor et al. 2015)\u001b[m\u001b[K non.  Quaerat quaerat est eius quaerat \u001b[01;31m\u001b[K(Baker et al. 2017)\u001b[m\u001b[K est.  Porro magnam velit quiquia est \u001b[01;31m\u001b[K(Nicholson et al. 2018)\u001b[m\u001b[K modi.  Quisquam labore sit dolore non amet numquam velit.  Quiquia ut neque est etincidunt consectetur \u001b[01;31m\u001b[K(e.g. Mounce et al. 2017; Meyer et al. 2016, Ball-Damerow 2019)\u001b[m\u001b[K quisquam. \n",
      " Porro labore non aliquam adipisci \u001b[01;31m\u001b[K(Hedrick et al. 2019; Lendemer et al. 2020)\u001b[m\u001b[K amet adipisci.  Dolorem est quaerat quaerat consectetur sit \u001b[01;31m\u001b[K(Heberling & Isaac 2018)\u001b[m\u001b[K eius.  Consectetur consectetur dolorem quisquam ut sed \u001b[01;31m\u001b[K(Berendsohn & Seltmann 2010; Owens & Johnson 2019)\u001b[m\u001b[K labore.  Eius quiquia magnam dolorem non magnam ut \u001b[01;31m\u001b[K(Fritze et al. 2012)\u001b[m\u001b[K.  Tempora etincidunt amet ut amet quaerat \u001b[01;31m\u001b[K(OECD, 2007)\u001b[m\u001b[K dolorem \u001b[01;31m\u001b[K(OECD, 2001)\u001b[m\u001b[K etincidunt.  Velit porro velit sed non dolor magnam dolor \u001b[01;31m\u001b[K(Heywood 2017)\u001b[m\u001b[K.  Magnam ipsum ipsum adipisci amet.  Porro labore non aliquam adipisci amet \u001b[01;31m\u001b[K(Brummitt 2001)\u001b[m\u001b[K adipisci.  Dolorem est quaerat quaerat consectetur sit eius.  Consectetur consectetur dolorem quisquam ut sed \u001b[01;31m\u001b[K(Figure 8)\u001b[m\u001b[K labore.  Eius quiquia magnam dolorem non \u001b[01;31m\u001b[K(Table 4)\u001b[m\u001b[K magnam ut \u001b[01;31m\u001b[K(Meyer et al. 2016; Daru et al. 2018; Meineke et al. 2018; Nekola et al. 2019; Zizka et al. 2020)\u001b[m\u001b[K.  Tempora etincidunt amet ut amet \u001b[01;31m\u001b[K(about 27% of the total, followed by the Caribbean, Central and South America, with 22% and Europe, with about 19%. Africa, Tropical Asia and the Pacific regions comprise the smallest proportion of digitized specimens currently available through GBIF (Fig. 7)\u001b[m\u001b[K quaerat dolorem etincidunt.  Velit porro velit sed non dolor \u001b[01;31m\u001b[K(GBIF 2020)\u001b[m\u001b[K magnam \u001b[01;31m\u001b[K(Canteiro et al. 2019)\u001b[m\u001b[K dolor \u001b[01;31m\u001b[K(Soltis 2017)\u001b[m\u001b[K.  Magnam ipsum ipsum adipisci amet. \n",
      " Voluptatem dolore non ipsum.  Modi adipisci porro dolorem adipisci numquam \u001b[01;31m\u001b[K(GBIF Secretariat 2019)\u001b[m\u001b[K aliquam \u001b[01;31m\u001b[K(Schindel & Cook 2018; Nelson & Ellis 2019; Lendemer et al. 2020)\u001b[m\u001b[K neque \u001b[01;31m\u001b[K(Ryan 2013; Smith & Figueiredo 2014)\u001b[m\u001b[K.  Eius quaerat neque etincidunt labore \u001b[01;31m\u001b[K(January 2020)\u001b[m\u001b[K dolore \u001b[01;31m\u001b[K(Seberg, Droege et al. 2016)\u001b[m\u001b[K.  Ut aliquam amet modi porro \u001b[01;31m\u001b[K(Hong et al. 1998, 1999)\u001b[m\u001b[K ut neque \u001b[01;31m\u001b[K(Fig. 3)\u001b[m\u001b[K.  Numquam numquam non est neque voluptatem \u001b[01;31m\u001b[K(Fig. 2)\u001b[m\u001b[K.  Voluptatem dolore non ipsum.  Modi adipisci porro dolorem adipisci numquam \u001b[01;31m\u001b[K(Mounce et al. 2017)\u001b[m\u001b[K aliquam \u001b[01;31m\u001b[K(Wyse & Dickie 2017)\u001b[m\u001b[K neque \u001b[01;31m\u001b[K(FAO 2019)\u001b[m\u001b[K.  Eius quaerat neque etincidunt labore \u001b[01;31m\u001b[K(Hay and Probert 2013)\u001b[m\u001b[K dolore.  Ut aliquam amet modi porro \u001b[01;31m\u001b[K(Li and Pritchard 2009)\u001b[m\u001b[K ut \u001b[01;31m\u001b[K(FAO, 2019)\u001b[m\u001b[K neque \u001b[01;31m\u001b[K(Overmann, 2015)\u001b[m\u001b[K.  Numquam numquam non est neque \u001b[01;31m\u001b[K(WIPO, 2019)\u001b[m\u001b[K voluptatem. \n",
      " Adipisci velit dolore ut amet \u001b[01;31m\u001b[K(WFCC WCDM 2020)\u001b[m\u001b[K neque \u001b[01;31m\u001b[K(Blackwell 2011)\u001b[m\u001b[K tempora magnam \u001b[01;31m\u001b[K(Willis et al. 2018)\u001b[m\u001b[K.  Sed eius adipisci est sit numquam.  Quisquam ut labore consectetur porro \u001b[01;31m\u001b[K(insert pie chart here fig 3)\u001b[m\u001b[K etincidunt amet adipisci \u001b[01;31m\u001b[K(Overman & Smith, 2016)\u001b[m\u001b[K.  Modi ipsum labore dolorem quisquam \u001b[01;31m\u001b[K(http://www.wfcc.info/ccinfo/statistics/ - 7January/2020)\u001b[m\u001b[K.  Dolor numquam dolor quaerat consectetur \u001b[01;31m\u001b[K(Ryan et al., 2019)\u001b[m\u001b[K sed modi.  Neque eius quaerat est non dolore \u001b[01;31m\u001b[K(Mounce et al. 2017)\u001b[m\u001b[K.  Ut ipsum magnam voluptatem etincidunt \u001b[01;31m\u001b[K(Figure 2)\u001b[m\u001b[K ipsum aliquam.  Dolore quaerat ipsum amet.  Labore porro non tempora sed porro aliquam adipisci.  Dolor dolore dolorem porro quaerat.  Adipisci velit dolore ut amet \u001b[01;31m\u001b[K(Figure 2)\u001b[m\u001b[K neque tempora magnam.  Sed eius adipisci est sit \u001b[01;31m\u001b[K(Figure 1)\u001b[m\u001b[K numquam \u001b[01;31m\u001b[K(Thiers 2020)\u001b[m\u001b[K.  Quisquam ut labore consectetur porro \u001b[01;31m\u001b[K(Lanjouw & Stafleu 1964)\u001b[m\u001b[K etincidunt \u001b[01;31m\u001b[K(Bakker et al. 2019)\u001b[m\u001b[K amet adipisci \u001b[01;31m\u001b[K(Muggaran et al. 2010; Lendemer et al. 2020)\u001b[m\u001b[K.  Modi ipsum labore dolorem quisquam \u001b[01;31m\u001b[K(Diaz et al. 2019)\u001b[m\u001b[K.  Dolor numquam dolor quaerat consectetur \u001b[01;31m\u001b[K(Meineke et al. 2018)\u001b[m\u001b[K sed modi.  Neque eius quaerat est non \u001b[01;31m\u001b[K(Jarman et al. 2018)\u001b[m\u001b[K dolore \u001b[01;31m\u001b[K(Wyse et al. 2018)\u001b[m\u001b[K.  Ut ipsum magnam voluptatem etincidunt \u001b[01;31m\u001b[K(Meyer et al. 2016; Mounce et al. 2017; Meineke et al. 2018; Daru et al. 2018)\u001b[m\u001b[K ipsum \u001b[01;31m\u001b[K(Schindel & Cook 2018)\u001b[m\u001b[K aliquam \u001b[01;31m\u001b[K(Wen et al. 2015; Soltis 2017; Funk 2018; Meineke et al. 2018; Nualart et al. 2017; Besnard et al. 2019; Carine et al. 2018; Heberling et al. 2019)\u001b[m\u001b[K.  Dolore quaerat ipsum amet.  Labore porro non tempora sed \u001b[01;31m\u001b[K(Bakker et al.  2019)\u001b[m\u001b[K porro aliquam adipisci \u001b[01;31m\u001b[K(Harmon et al. 2019)\u001b[m\u001b[K.  Dolor dolore dolorem porro quaerat. \n"
     ]
    }
   ],
   "source": [
    "! grep -e \"([A-Za-z][^)]*[0-9])\" --color=always article.txt "
   ]
  },
  {
   "cell_type": "markdown",
   "metadata": {},
   "source": [
    "It looks like we have detected the citations in the text of the article draft. Given the citations can be detected, how can they be extracted? Command line `grep` has an option `--only-matching` to output only the matches that it finds (i.e. it drops the surrounding text): "
   ]
  },
  {
   "cell_type": "code",
   "execution_count": 5,
   "metadata": {},
   "outputs": [
    {
     "name": "stdout",
     "output_type": "stream",
     "text": [
      "(Jarman et al. 2018)\n",
      "(Piet et al. 2019)\n",
      "(e.g. Colville & Pritchard 2019)\n",
      "(Li & Pritchard 2009)\n",
      "(Wyse et al. 2018)\n",
      "(Wyse & Dickie 2017)\n",
      "(Victor et al. 2015)\n",
      "(Baker et al. 2017)\n",
      "(Nicholson et al. 2018)\n",
      "(e.g. Mounce et al. 2017; Meyer et al. 2016, Ball-Damerow 2019)\n",
      "(Hedrick et al. 2019; Lendemer et al. 2020)\n",
      "(Heberling & Isaac 2018)\n",
      "(Berendsohn & Seltmann 2010; Owens & Johnson 2019)\n",
      "(Fritze et al. 2012)\n",
      "(OECD, 2007)\n",
      "(OECD, 2001)\n",
      "(Heywood 2017)\n",
      "(Brummitt 2001)\n",
      "(Figure 8)\n",
      "(Table 4)\n",
      "(Meyer et al. 2016; Daru et al. 2018; Meineke et al. 2018; Nekola et al. 2019; Zizka et al. 2020)\n",
      "(about 27% of the total, followed by the Caribbean, Central and South America, with 22% and Europe, with about 19%. Africa, Tropical Asia and the Pacific regions comprise the smallest proportion of digitized specimens currently available through GBIF (Fig. 7)\n",
      "(GBIF 2020)\n",
      "(Canteiro et al. 2019)\n",
      "(Soltis 2017)\n",
      "(GBIF Secretariat 2019)\n",
      "(Schindel & Cook 2018; Nelson & Ellis 2019; Lendemer et al. 2020)\n",
      "(Ryan 2013; Smith & Figueiredo 2014)\n",
      "(January 2020)\n",
      "(Seberg, Droege et al. 2016)\n",
      "(Hong et al. 1998, 1999)\n",
      "(Fig. 3)\n",
      "(Fig. 2)\n",
      "(Mounce et al. 2017)\n",
      "(Wyse & Dickie 2017)\n",
      "(FAO 2019)\n",
      "(Hay and Probert 2013)\n",
      "(Li and Pritchard 2009)\n",
      "(FAO, 2019)\n",
      "(Overmann, 2015)\n",
      "(WIPO, 2019)\n",
      "(WFCC WCDM 2020)\n",
      "(Blackwell 2011)\n",
      "(Willis et al. 2018)\n",
      "(insert pie chart here fig 3)\n",
      "(Overman & Smith, 2016)\n",
      "(http://www.wfcc.info/ccinfo/statistics/ - 7January/2020)\n",
      "(Ryan et al., 2019)\n",
      "(Mounce et al. 2017)\n",
      "(Figure 2)\n",
      "(Figure 2)\n",
      "(Figure 1)\n",
      "(Thiers 2020)\n",
      "(Lanjouw & Stafleu 1964)\n",
      "(Bakker et al. 2019)\n",
      "(Muggaran et al. 2010; Lendemer et al. 2020)\n",
      "(Diaz et al. 2019)\n",
      "(Meineke et al. 2018)\n",
      "(Jarman et al. 2018)\n",
      "(Wyse et al. 2018)\n",
      "(Meyer et al. 2016; Mounce et al. 2017; Meineke et al. 2018; Daru et al. 2018)\n",
      "(Schindel & Cook 2018)\n",
      "(Wen et al. 2015; Soltis 2017; Funk 2018; Meineke et al. 2018; Nualart et al. 2017; Besnard et al. 2019; Carine et al. 2018; Heberling et al. 2019)\n",
      "(Bakker et al.  2019)\n",
      "(Harmon et al. 2019)\n"
     ]
    }
   ],
   "source": [
    "! grep -e \"([A-Za-z][^)]*[0-9])\" --only-matching article.txt "
   ]
  },
  {
   "cell_type": "markdown",
   "metadata": {},
   "source": [
    "This list includes some things which are not bibliographic citations, eg notes to self, or references to tables or figures. These can be removed by \"piping\" into a further `grep` command which specifies a negative match (using the `-v` flag).\n",
    "A pipe (`|`) is used to redirect the output of one command line utility to act as the input to another. This means that many small utility programs can be chained together into a pipeline. \n",
    "The negative match pattern used in the second grep specifies a number of patterns, separated by `|\\`"
   ]
  },
  {
   "cell_type": "code",
   "execution_count": 6,
   "metadata": {},
   "outputs": [
    {
     "name": "stdout",
     "output_type": "stream",
     "text": [
      "(Jarman et al. 2018)\n",
      "(Piet et al. 2019)\n",
      "(e.g. Colville & Pritchard 2019)\n",
      "(Li & Pritchard 2009)\n",
      "(Wyse et al. 2018)\n",
      "(Wyse & Dickie 2017)\n",
      "(Victor et al. 2015)\n",
      "(Baker et al. 2017)\n",
      "(Nicholson et al. 2018)\n",
      "(e.g. Mounce et al. 2017; Meyer et al. 2016, Ball-Damerow 2019)\n",
      "(Hedrick et al. 2019; Lendemer et al. 2020)\n",
      "(Heberling & Isaac 2018)\n",
      "(Berendsohn & Seltmann 2010; Owens & Johnson 2019)\n",
      "(Fritze et al. 2012)\n",
      "(OECD, 2007)\n",
      "(OECD, 2001)\n",
      "(Heywood 2017)\n",
      "(Brummitt 2001)\n",
      "(Meyer et al. 2016; Daru et al. 2018; Meineke et al. 2018; Nekola et al. 2019; Zizka et al. 2020)\n",
      "(GBIF 2020)\n",
      "(Canteiro et al. 2019)\n",
      "(Soltis 2017)\n",
      "(GBIF Secretariat 2019)\n",
      "(Schindel & Cook 2018; Nelson & Ellis 2019; Lendemer et al. 2020)\n",
      "(Ryan 2013; Smith & Figueiredo 2014)\n",
      "(January 2020)\n",
      "(Seberg, Droege et al. 2016)\n",
      "(Hong et al. 1998, 1999)\n",
      "(Mounce et al. 2017)\n",
      "(Wyse & Dickie 2017)\n",
      "(FAO 2019)\n",
      "(Hay and Probert 2013)\n",
      "(Li and Pritchard 2009)\n",
      "(FAO, 2019)\n",
      "(Overmann, 2015)\n",
      "(WIPO, 2019)\n",
      "(WFCC WCDM 2020)\n",
      "(Blackwell 2011)\n",
      "(Willis et al. 2018)\n",
      "(Overman & Smith, 2016)\n",
      "(Ryan et al., 2019)\n",
      "(Mounce et al. 2017)\n",
      "(Thiers 2020)\n",
      "(Lanjouw & Stafleu 1964)\n",
      "(Bakker et al. 2019)\n",
      "(Muggaran et al. 2010; Lendemer et al. 2020)\n",
      "(Diaz et al. 2019)\n",
      "(Meineke et al. 2018)\n",
      "(Jarman et al. 2018)\n",
      "(Wyse et al. 2018)\n",
      "(Meyer et al. 2016; Mounce et al. 2017; Meineke et al. 2018; Daru et al. 2018)\n",
      "(Schindel & Cook 2018)\n",
      "(Wen et al. 2015; Soltis 2017; Funk 2018; Meineke et al. 2018; Nualart et al. 2017; Besnard et al. 2019; Carine et al. 2018; Heberling et al. 2019)\n",
      "(Bakker et al.  2019)\n",
      "(Harmon et al. 2019)\n"
     ]
    }
   ],
   "source": [
    "!grep -e \"([A-Za-z][^)]*[0-9])\" --only-matching article.txt | grep -v -e \"(Tab\\|(Fig\\|(http\\|(insert\\|(about\""
   ]
  },
  {
   "cell_type": "markdown",
   "metadata": {},
   "source": [
    "A useful example of chaining is that the output of this command (the list of matches) can be piped into a utility (`wc`) to count the number of lines (using the `-l` switch):"
   ]
  },
  {
   "cell_type": "code",
   "execution_count": 7,
   "metadata": {},
   "outputs": [
    {
     "name": "stdout",
     "output_type": "stream",
     "text": [
      "55\n"
     ]
    }
   ],
   "source": [
    "!grep -e \"([A-Za-z][^)]*[0-9])\" --only-matching article.txt | grep -v -e \"(Tab\\|(Fig\\|http\\|insert\\|about\" | wc -l"
   ]
  },
  {
   "cell_type": "markdown",
   "metadata": {},
   "source": [
    "Its probably worth saving this list of extracted references to an intermediate file, and working from there from now on. This is done with a redirection (`>`):"
   ]
  },
  {
   "cell_type": "code",
   "execution_count": 8,
   "metadata": {},
   "outputs": [
    {
     "name": "stdout",
     "output_type": "stream",
     "text": [
      "(Jarman et al. 2018)\n",
      "(Piet et al. 2019)\n",
      "(e.g. Colville & Pritchard 2019)\n",
      "(Li & Pritchard 2009)\n",
      "(Wyse et al. 2018)\n",
      "(Wyse & Dickie 2017)\n",
      "(Victor et al. 2015)\n",
      "(Baker et al. 2017)\n",
      "(Nicholson et al. 2018)\n",
      "(e.g. Mounce et al. 2017; Meyer et al. 2016, Ball-Damerow 2019)\n"
     ]
    }
   ],
   "source": [
    "!grep -e \"([A-Za-z][^)]*[0-9])\" --only-matching article.txt | grep -v -e \"(Tab\\|(Fig\\|http\\|insert\\|about\" > refs.txt\n",
    "!head refs.txt"
   ]
  },
  {
   "cell_type": "markdown",
   "metadata": {},
   "source": [
    "The next tasks are to (1) remove the brackets surrounding each citations and (2) split multiple citations so that each appears on its own line.\n",
    "The `tr` command (translate) can be used to translate or to delete characters (the `-d` switch):"
   ]
  },
  {
   "cell_type": "code",
   "execution_count": 9,
   "metadata": {},
   "outputs": [
    {
     "name": "stdout",
     "output_type": "stream",
     "text": [
      "Jarman et al. 2018\n",
      "Piet et al. 2019\n",
      "e.g. Colville & Pritchard 2019\n",
      "Li & Pritchard 2009\n",
      "Wyse et al. 2018\n",
      "Wyse & Dickie 2017\n",
      "Victor et al. 2015\n",
      "Baker et al. 2017\n",
      "Nicholson et al. 2018\n",
      "e.g. Mounce et al. 2017; Meyer et al. 2016, Ball-Damerow 2019\n",
      "Hedrick et al. 2019; Lendemer et al. 2020\n",
      "Heberling & Isaac 2018\n",
      "Berendsohn & Seltmann 2010; Owens & Johnson 2019\n",
      "Fritze et al. 2012\n",
      "OECD, 2007\n",
      "OECD, 2001\n",
      "Heywood 2017\n",
      "Brummitt 2001\n",
      "Meyer et al. 2016; Daru et al. 2018; Meineke et al. 2018; Nekola et al. 2019; Zizka et al. 2020\n",
      "GBIF 2020\n",
      "Canteiro et al. 2019\n",
      "Soltis 2017\n",
      "GBIF Secretariat 2019\n",
      "Schindel & Cook 2018; Nelson & Ellis 2019; Lendemer et al. 2020\n",
      "Ryan 2013; Smith & Figueiredo 2014\n",
      "January 2020\n",
      "Seberg, Droege et al. 2016\n",
      "Hong et al. 1998, 1999\n",
      "Mounce et al. 2017\n",
      "Wyse & Dickie 2017\n",
      "FAO 2019\n",
      "Hay and Probert 2013\n",
      "Li and Pritchard 2009\n",
      "FAO, 2019\n",
      "Overmann, 2015\n",
      "WIPO, 2019\n",
      "WFCC WCDM 2020\n",
      "Blackwell 2011\n",
      "Willis et al. 2018\n",
      "Overman & Smith, 2016\n",
      "Ryan et al., 2019\n",
      "Mounce et al. 2017\n",
      "Thiers 2020\n",
      "Lanjouw & Stafleu 1964\n",
      "Bakker et al. 2019\n",
      "Muggaran et al. 2010; Lendemer et al. 2020\n",
      "Diaz et al. 2019\n",
      "Meineke et al. 2018\n",
      "Jarman et al. 2018\n",
      "Wyse et al. 2018\n",
      "Meyer et al. 2016; Mounce et al. 2017; Meineke et al. 2018; Daru et al. 2018\n",
      "Schindel & Cook 2018\n",
      "Wen et al. 2015; Soltis 2017; Funk 2018; Meineke et al. 2018; Nualart et al. 2017; Besnard et al. 2019; Carine et al. 2018; Heberling et al. 2019\n",
      "Bakker et al.  2019\n",
      "Harmon et al. 2019\n"
     ]
    }
   ],
   "source": [
    "!cat refs.txt | tr -d '()'"
   ]
  },
  {
   "cell_type": "markdown",
   "metadata": {},
   "source": [
    "Unfortunately `tr` only works on single characters - if we want to translate multiple character strings (like the `; ` which separates multiple citations, we need to use `sed` - a stream editor. The command to sed can be broken down as follows:\n",
    "- `s/oldstring/newstring/g` substitute (`s`) `oldstring` with `newstring` globally (`g`)\n",
    "The newstring value `\\n` means newline."
   ]
  },
  {
   "cell_type": "code",
   "execution_count": 10,
   "metadata": {},
   "outputs": [
    {
     "name": "stdout",
     "output_type": "stream",
     "text": [
      "Jarman et al. 2018\n",
      "Piet et al. 2019\n",
      "e.g. Colville & Pritchard 2019\n",
      "Li & Pritchard 2009\n",
      "Wyse et al. 2018\n",
      "Wyse & Dickie 2017\n",
      "Victor et al. 2015\n",
      "Baker et al. 2017\n",
      "Nicholson et al. 2018\n",
      "e.g. Mounce et al. 2017\n",
      "Meyer et al. 2016, Ball-Damerow 2019\n",
      "Hedrick et al. 2019\n",
      "Lendemer et al. 2020\n",
      "Heberling & Isaac 2018\n",
      "Berendsohn & Seltmann 2010\n",
      "Owens & Johnson 2019\n",
      "Fritze et al. 2012\n",
      "OECD, 2007\n",
      "OECD, 2001\n",
      "Heywood 2017\n",
      "Brummitt 2001\n",
      "Meyer et al. 2016\n",
      "Daru et al. 2018\n",
      "Meineke et al. 2018\n",
      "Nekola et al. 2019\n",
      "Zizka et al. 2020\n",
      "GBIF 2020\n",
      "Canteiro et al. 2019\n",
      "Soltis 2017\n",
      "GBIF Secretariat 2019\n",
      "Schindel & Cook 2018\n",
      "Nelson & Ellis 2019\n",
      "Lendemer et al. 2020\n",
      "Ryan 2013\n",
      "Smith & Figueiredo 2014\n",
      "January 2020\n",
      "Seberg, Droege et al. 2016\n",
      "Hong et al. 1998, 1999\n",
      "Mounce et al. 2017\n",
      "Wyse & Dickie 2017\n",
      "FAO 2019\n",
      "Hay and Probert 2013\n",
      "Li and Pritchard 2009\n",
      "FAO, 2019\n",
      "Overmann, 2015\n",
      "WIPO, 2019\n",
      "WFCC WCDM 2020\n",
      "Blackwell 2011\n",
      "Willis et al. 2018\n",
      "Overman & Smith, 2016\n",
      "Ryan et al., 2019\n",
      "Mounce et al. 2017\n",
      "Thiers 2020\n",
      "Lanjouw & Stafleu 1964\n",
      "Bakker et al. 2019\n",
      "Muggaran et al. 2010\n",
      "Lendemer et al. 2020\n",
      "Diaz et al. 2019\n",
      "Meineke et al. 2018\n",
      "Jarman et al. 2018\n",
      "Wyse et al. 2018\n",
      "Meyer et al. 2016\n",
      "Mounce et al. 2017\n",
      "Meineke et al. 2018\n",
      "Daru et al. 2018\n",
      "Schindel & Cook 2018\n",
      "Wen et al. 2015\n",
      "Soltis 2017\n",
      "Funk 2018\n",
      "Meineke et al. 2018\n",
      "Nualart et al. 2017\n",
      "Besnard et al. 2019\n",
      "Carine et al. 2018\n",
      "Heberling et al. 2019\n",
      "Bakker et al.  2019\n",
      "Harmon et al. 2019\n"
     ]
    }
   ],
   "source": [
    "!cat refs.txt | tr -d '()' | sed 's/; /\\n/g'"
   ]
  },
  {
   "cell_type": "markdown",
   "metadata": {},
   "source": [
    "## Ordering\n",
    "The command above outputs matches in the order they were found in the input. If we want eg a unique list in alphabetical order, we can pipe into a couple more utilities: `sort` (to sort alphabetically) and `uniq` (to remove duplicates):"
   ]
  },
  {
   "cell_type": "code",
   "execution_count": 11,
   "metadata": {},
   "outputs": [
    {
     "name": "stdout",
     "output_type": "stream",
     "text": [
      "Baker et al. 2017\n",
      "Bakker et al.  2019\n",
      "Bakker et al. 2019\n",
      "Berendsohn & Seltmann 2010\n",
      "Besnard et al. 2019\n",
      "Blackwell 2011\n",
      "Brummitt 2001\n",
      "Canteiro et al. 2019\n",
      "Carine et al. 2018\n",
      "Daru et al. 2018\n",
      "Diaz et al. 2019\n",
      "e.g. Colville & Pritchard 2019\n",
      "e.g. Mounce et al. 2017\n",
      "FAO 2019\n",
      "FAO, 2019\n",
      "Fritze et al. 2012\n",
      "Funk 2018\n",
      "GBIF 2020\n",
      "GBIF Secretariat 2019\n",
      "Harmon et al. 2019\n",
      "Hay and Probert 2013\n",
      "Heberling & Isaac 2018\n",
      "Heberling et al. 2019\n",
      "Hedrick et al. 2019\n",
      "Heywood 2017\n",
      "Hong et al. 1998, 1999\n",
      "January 2020\n",
      "Jarman et al. 2018\n",
      "Lanjouw & Stafleu 1964\n",
      "Lendemer et al. 2020\n",
      "Li & Pritchard 2009\n",
      "Li and Pritchard 2009\n",
      "Meineke et al. 2018\n",
      "Meyer et al. 2016\n",
      "Meyer et al. 2016, Ball-Damerow 2019\n",
      "Mounce et al. 2017\n",
      "Muggaran et al. 2010\n",
      "Nekola et al. 2019\n",
      "Nelson & Ellis 2019\n",
      "Nicholson et al. 2018\n",
      "Nualart et al. 2017\n",
      "OECD, 2001\n",
      "OECD, 2007\n",
      "Overman & Smith, 2016\n",
      "Overmann, 2015\n",
      "Owens & Johnson 2019\n",
      "Piet et al. 2019\n",
      "Ryan 2013\n",
      "Ryan et al., 2019\n",
      "Schindel & Cook 2018\n",
      "Seberg, Droege et al. 2016\n",
      "Smith & Figueiredo 2014\n",
      "Soltis 2017\n",
      "Thiers 2020\n",
      "Victor et al. 2015\n",
      "Wen et al. 2015\n",
      "WFCC WCDM 2020\n",
      "Willis et al. 2018\n",
      "WIPO, 2019\n",
      "Wyse & Dickie 2017\n",
      "Wyse et al. 2018\n",
      "Zizka et al. 2020\n"
     ]
    }
   ],
   "source": [
    " !cat refs.txt | tr -d '()' | sed 's/; /\\n/g'| sort | uniq"
   ]
  }
 ],
 "metadata": {
  "kernelspec": {
   "display_name": "Python 3",
   "language": "python",
   "name": "python3"
  },
  "language_info": {
   "codemirror_mode": {
    "name": "ipython",
    "version": 3
   },
   "file_extension": ".py",
   "mimetype": "text/x-python",
   "name": "python",
   "nbconvert_exporter": "python",
   "pygments_lexer": "ipython3",
   "version": "3.7.4"
  }
 },
 "nbformat": 4,
 "nbformat_minor": 2
}
